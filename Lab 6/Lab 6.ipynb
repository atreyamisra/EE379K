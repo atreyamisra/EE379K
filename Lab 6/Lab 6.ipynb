{
 "cells": [
  {
   "cell_type": "markdown",
   "metadata": {},
   "source": [
    " Hari Kosuru, hk8663,\n",
    " Atreya Misra, am73676"
   ]
  },
  {
   "cell_type": "code",
   "execution_count": 2,
   "metadata": {
    "collapsed": true
   },
   "outputs": [],
   "source": [
    "import numpy as np\n",
    "import pandas as pd\n",
    "\n",
    "from random import randint"
   ]
  },
  {
   "cell_type": "markdown",
   "metadata": {},
   "source": [
    "Problem 1: K-Means"
   ]
  },
  {
   "cell_type": "code",
   "execution_count": 22,
   "metadata": {
    "collapsed": false
   },
   "outputs": [
    {
     "name": "stdout",
     "output_type": "stream",
     "text": [
      "[[2 5]\n",
      " [0 1]\n",
      " [1 8]\n",
      " [5 3]\n",
      " [5 4]\n",
      " [2 3]\n",
      " [7 8]\n",
      " [7 8]\n",
      " [1 7]\n",
      " [9 4]\n",
      " [1 3]\n",
      " [6 4]\n",
      " [8 4]\n",
      " [5 3]\n",
      " [0 6]\n",
      " [4 9]\n",
      " [8 9]\n",
      " [1 5]\n",
      " [2 5]\n",
      " [3 8]]\n",
      "[[3, 6], [0, 7], [9, 4]]\n"
     ]
    }
   ],
   "source": [
    "# Generate a random initialization\n",
    "numPoints = 20\n",
    "numClusters = 3\n",
    "min = 0\n",
    "max = 9\n",
    "generatedPoints = []\n",
    "\n",
    "for i in range(0, numPoints):\n",
    "    generatedPoints.append([randint(min, max), randint(min, max)])\n",
    "\n",
    "    \n",
    "copyOfPoints = generatedPoints\n",
    "    \n",
    "# Generate the initial k-means(randomly)\n",
    "means = []\n",
    "for i in range(0, numClusters):\n",
    "    potentialMean = [randint(min, max), randint(min, max)]\n",
    "    while(potentialMean in means):\n",
    "        potentialMean = [randint(min, max), randint(min, max)]\n",
    "    means.append(potentialMean)\n",
    "\n",
    "for i in copyOfPoints:\n",
    "    \n",
    "\n",
    "print np.asarray(generatedPoints)\n",
    "print means"
   ]
  },
  {
   "cell_type": "code",
   "execution_count": null,
   "metadata": {
    "collapsed": true
   },
   "outputs": [],
   "source": []
  },
  {
   "cell_type": "code",
   "execution_count": null,
   "metadata": {
    "collapsed": true
   },
   "outputs": [],
   "source": []
  },
  {
   "cell_type": "code",
   "execution_count": null,
   "metadata": {
    "collapsed": true
   },
   "outputs": [],
   "source": []
  }
 ],
 "metadata": {
  "anaconda-cloud": {},
  "kernelspec": {
   "display_name": "Python [conda root]",
   "language": "python",
   "name": "conda-root-py"
  },
  "language_info": {
   "codemirror_mode": {
    "name": "ipython",
    "version": 2
   },
   "file_extension": ".py",
   "mimetype": "text/x-python",
   "name": "python",
   "nbconvert_exporter": "python",
   "pygments_lexer": "ipython2",
   "version": "2.7.12"
  }
 },
 "nbformat": 4,
 "nbformat_minor": 1
}
