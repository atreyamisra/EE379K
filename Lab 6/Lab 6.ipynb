{
 "cells": [
  {
   "cell_type": "markdown",
   "metadata": {},
   "source": [
    " Hari Kosuru, hk8663,\n",
    " Atreya Misra, am73676"
   ]
  },
  {
   "cell_type": "code",
   "execution_count": 29,
   "metadata": {
    "collapsed": true
   },
   "outputs": [],
   "source": [
    "import numpy as np\n",
    "import pandas as pd\n",
    "\n",
    "import random\n",
    "from math import sqrt"
   ]
  },
  {
   "cell_type": "markdown",
   "metadata": {},
   "source": [
    "Problem 1: K-Means"
   ]
  },
  {
   "cell_type": "code",
   "execution_count": 45,
   "metadata": {
    "collapsed": false
   },
   "outputs": [
    {
     "name": "stdout",
     "output_type": "stream",
     "text": [
      "Generated Points(Randomized):\n",
      "[[7 8]\n",
      " [1 3]\n",
      " [6 6]\n",
      " [7 6]\n",
      " [6 2]\n",
      " [0 4]\n",
      " [8 9]\n",
      " [7 9]\n",
      " [5 1]\n",
      " [8 7]\n",
      " [6 5]\n",
      " [6 4]\n",
      " [0 4]\n",
      " [8 3]\n",
      " [6 9]\n",
      " [9 9]\n",
      " [5 8]\n",
      " [6 9]\n",
      " [0 0]\n",
      " [8 5]]\n",
      "\n",
      "Generated Means(Randomized):\n",
      "[[8.163321046913067, 3.1030452850229833], [0.34360357360870475, 3.2945093654228104], [5.065771111802633, 3.4717184388847393]]\n",
      "\n",
      "Calculated Clusters:\n",
      "[2, 1, 2, 0, 2, 1, 0, 2, 2, 0, 2, 2, 1, 0, 2, 0, 2, 2, 1, 0]\n"
     ]
    }
   ],
   "source": [
    "# Generate a random initialization\n",
    "numPoints = 20\n",
    "numClusters = 3\n",
    "min = 0\n",
    "max = 9\n",
    "generatedPoints = []\n",
    "clusters = []\n",
    "\n",
    "def pythag(p1, p2):\n",
    "    return sqrt((p1[0] - p2[0])**2 + (p1[1] - p2[1])**2)\n",
    "\n",
    "\n",
    "for i in range(0, numPoints):\n",
    "    generatedPoints.append([random.randint(min, max), random.randint(min, max)])\n",
    "\n",
    "    \n",
    "copyOfPoints = generatedPoints\n",
    "\n",
    "# Generate the initial k-means(randomly)\n",
    "means = []\n",
    "for i in range(0, numClusters):\n",
    "    potentialMean = [random.uniform(min, max), random.uniform(min, max)]\n",
    "    while(potentialMean in means):\n",
    "        potentialMean = [random.uniform(min, max), random.uniform(min, max)]\n",
    "    means.append(potentialMean)\n",
    "\n",
    "clusters = []\n",
    "for i in range(0, len(copyOfPoints)):\n",
    "    dists = []\n",
    "    for j in range(0, numClusters):\n",
    "        dists.append(pythag(generatedPoints[i], means[j]))\n",
    "    #print dists\n",
    "    minIndex = np.argmin(dists)\n",
    "    clusters.append(minIndex)\n",
    "\n",
    "\n",
    "print 'Generated Points(Randomized):\\n', np.asarray(generatedPoints)\n",
    "print '\\nGenerated Means(Randomized):\\n', means\n",
    "print '\\nCalculated Clusters:\\n', clusters"
   ]
  },
  {
   "cell_type": "code",
   "execution_count": null,
   "metadata": {
    "collapsed": true
   },
   "outputs": [],
   "source": []
  }
 ],
 "metadata": {
  "anaconda-cloud": {},
  "kernelspec": {
   "display_name": "Python [conda root]",
   "language": "python",
   "name": "conda-root-py"
  },
  "language_info": {
   "codemirror_mode": {
    "name": "ipython",
    "version": 2
   },
   "file_extension": ".py",
   "mimetype": "text/x-python",
   "name": "python",
   "nbconvert_exporter": "python",
   "pygments_lexer": "ipython2",
   "version": "2.7.12"
  }
 },
 "nbformat": 4,
 "nbformat_minor": 1
}
