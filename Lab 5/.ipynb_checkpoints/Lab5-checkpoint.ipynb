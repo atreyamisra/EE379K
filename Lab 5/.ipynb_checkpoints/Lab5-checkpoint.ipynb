{
 "cells": [
  {
   "cell_type": "markdown",
   "metadata": {},
   "source": [
    " Hari Kosuru, hk8663,\n",
    " Atreya Misra, am73676"
   ]
  },
  {
   "cell_type": "code",
   "execution_count": 53,
   "metadata": {
    "collapsed": false
   },
   "outputs": [],
   "source": [
    "import pandas as pd\n",
    "import numpy as np\n",
    "import matplotlib.pyplot as plt\n",
    "from sklearn.linear_model import LinearRegression, Ridge, RidgeCV, LassoCV, LogisticRegression\n",
    "from sklearn.metrics import mean_squared_error, confusion_matrix\n",
    "from sklearn.decomposition import PCA\n",
    "from sklearn.preprocessing import scale\n",
    "from sklearn.lda import LDA\n",
    "from sklearn.qda import QDA\n",
    "from sklearn.cluster import KMeans\n",
    "from sklearn.model_selection import LeaveOneOut\n",
    "from sklearn import cross_validation\n",
    "from sklearn.cross_decomposition import PLSRegression\n",
    "from sklearn.model_selection import KFold, cross_val_score, train_test_split\n",
    "\n",
    "\n",
    "import random"
   ]
  },
  {
   "cell_type": "markdown",
   "metadata": {},
   "source": [
    "Problem 3:"
   ]
  },
  {
   "cell_type": "markdown",
   "metadata": {},
   "source": [
    "Problem 6: Problem 8 from Chapter 5."
   ]
  },
  {
   "cell_type": "code",
   "execution_count": 16,
   "metadata": {
    "collapsed": false
   },
   "outputs": [
    {
     "name": "stdout",
     "output_type": "stream",
     "text": [
      "            Unnamed: 0      Year      Lag1      Lag2      Lag3      Lag4  \\\n",
      "Unnamed: 0    1.000000  0.998863 -0.031577 -0.033129 -0.030420 -0.030935   \n",
      "Year          0.998863  1.000000 -0.032289 -0.033390 -0.030006 -0.031128   \n",
      "Lag1         -0.031577 -0.032289  1.000000 -0.074853  0.058636 -0.071274   \n",
      "Lag2         -0.033129 -0.033390 -0.074853  1.000000 -0.075721  0.058382   \n",
      "Lag3         -0.030420 -0.030006  0.058636 -0.075721  1.000000 -0.075396   \n",
      "Lag4         -0.030935 -0.031128 -0.071274  0.058382 -0.075396  1.000000   \n",
      "Lag5         -0.030382 -0.030519 -0.008183 -0.072499  0.060657 -0.075675   \n",
      "Volume        0.842095  0.841942 -0.064951 -0.085513 -0.069288 -0.061075   \n",
      "Today        -0.031183 -0.032460 -0.075032  0.059167 -0.071244 -0.007826   \n",
      "\n",
      "                Lag5    Volume     Today  \n",
      "Unnamed: 0 -0.030382  0.842095 -0.031183  \n",
      "Year       -0.030519  0.841942 -0.032460  \n",
      "Lag1       -0.008183 -0.064951 -0.075032  \n",
      "Lag2       -0.072499 -0.085513  0.059167  \n",
      "Lag3        0.060657 -0.069288 -0.071244  \n",
      "Lag4       -0.075675 -0.061075 -0.007826  \n",
      "Lag5        1.000000 -0.058517  0.011013  \n",
      "Volume     -0.058517  1.000000 -0.033078  \n",
      "Today       0.011013 -0.033078  1.000000  \n",
      "LOGISTIC ACCURACY:\n",
      "0.563820018365\n",
      "LOGISTIC SUMMARY:\n",
      "            0                     1\n",
      "0  Unnamed: 0  [-9.81730269417e-05]\n",
      "1        Lag1     [-0.040808998857]\n",
      "2        Lag2     [0.0590682481421]\n",
      "3        Lag3    [-0.0156409378225]\n",
      "4        Lag4    [-0.0274044562126]\n",
      "5        Lag5    [-0.0141311496634]\n",
      "6      Volume   [-0.00642842848378]\n",
      "LOGISTIC CONFUSION MATRIX:\n",
      "[[ 57 427]\n",
      " [ 48 557]]\n",
      "LDA ACCURACY:\n",
      "0.56290174472\n",
      "LDA SUMMARY:\n",
      "            0                     1\n",
      "0  Unnamed: 0  [-0.000106540692812]\n",
      "1        Lag1    [-0.0405760712923]\n",
      "2        Lag2     [0.0580911782674]\n",
      "3        Lag3     [-0.014867643426]\n",
      "4        Lag4    [-0.0268014177484]\n",
      "5        Lag5    [-0.0135589797513]\n",
      "6      Volume   [-0.00649065250456]\n",
      "LDA CONFUSION MATRIX:\n",
      "[[ 54 430]\n",
      " [ 46 559]]\n",
      "QDA ACCURACY:\n",
      "0.56290174472\n",
      "QDA SUMMARY:\n",
      "            0                                                  1\n",
      "0  Unnamed: 0  [[0.999988985899, 0.999989850814], [-0.0002558...\n",
      "1        Lag1  [[0.000129723456598, -0.000412788772294], [-0....\n",
      "2        Lag2  [[-0.000206107896788, 0.000564105703215], [0.6...\n",
      "3        Lag3  [[0.00106088692871, -0.000222991134305], [-0.1...\n",
      "4        Lag4  [[-0.00103806736525, -0.000177688602998], [-0....\n",
      "5        Lag5  [[0.000432637345352, 0.000267879311808], [0.41...\n",
      "6      Volume  [[0.00442476355476, -0.00443357662571], [-0.01...\n",
      "QDA CONFUSION MATRIX:\n",
      "[[120 364]\n",
      " [112 493]]\n",
      "KNN ACCURACY:\n",
      "-107655614.889\n"
     ]
    }
   ],
   "source": [
    "weekly = pd.read_csv(\"Weekly.csv\")\n",
    "print weekly.corr() #print correlation matrix to discover most impactful corss correlations\n",
    "\n",
    "weekly.Today.hist()\n",
    "plt.title('Histogram of Todays Returns')\n",
    "plt.xlabel('Today Return Level')\n",
    "plt.ylabel('Frequency')\n",
    "\n",
    "#weekly.Direction.hist()\n",
    "plt.title('Histogram of Direction')\n",
    "plt.xlabel('Today Return Level')\n",
    "plt.ylabel('Frequency')\n",
    "\n",
    "#pd.crosstab(weekly.Today, weekly.Direction.astype(bool)).plot(kind='bar')\n",
    "#plt.title('Todays Return based on market direction')\n",
    "#plt.xlabel('Market Rating')\n",
    "#plt.ylabel('Frequency')\n",
    "\n",
    "y = weekly.Direction\n",
    "X = weekly.drop(['Direction', 'Today', 'Year'], 1)\n",
    "#X = pd.read_csv(\"Weekly.csv\", usecols = [Lag1, Lag2, Lag3, Lag4, Lag5, Volume])\n",
    "#print y.head()\n",
    "#print X.head()\n",
    "#print weekly.head()\n",
    "\n",
    "log = LogisticRegression()\n",
    "log = log.fit(X,y)\n",
    "print \"LOGISTIC ACCURACY:\"\n",
    "print log.score(X,y)\n",
    "print \"LOGISTIC SUMMARY:\"\n",
    "print pd.DataFrame(zip(X.columns, np.transpose(log.coef_))) #nothing seems to be correlated\n",
    "\n",
    "conmatrixLogistic = confusion_matrix(y, log.predict(X))\n",
    "\n",
    "print \"LOGISTIC CONFUSION MATRIX:\"\n",
    "print conmatrixLogistic\n",
    "\n",
    "\n",
    "lda=LDA()\n",
    "lda.fit(X,y)\n",
    "print \"LDA ACCURACY:\"\n",
    "print lda.score(X,y)\n",
    "print \"LDA SUMMARY:\"\n",
    "print pd.DataFrame(zip(X.columns, np.transpose(lda.coef_))) \n",
    "conmatrixLDA = confusion_matrix(y, lda.predict(X))\n",
    "\n",
    "print \"LDA CONFUSION MATRIX:\"\n",
    "print conmatrixLDA\n",
    "\n",
    "\n",
    "qda=QDA()\n",
    "qda.fit(X,y)\n",
    "print \"QDA ACCURACY:\"\n",
    "print qda.score(X,y)\n",
    "print \"QDA SUMMARY:\"\n",
    "print pd.DataFrame(zip(X.columns, np.transpose(qda.rotations_))) \n",
    "conmatrixQDA = confusion_matrix(y, qda.predict(X))\n",
    "\n",
    "print \"QDA CONFUSION MATRIX:\"\n",
    "print conmatrixQDA\n",
    "\n",
    "knn=KMeans(n_clusters=1)\n",
    "knn.fit(X,y)\n",
    "print \"KNN ACCURACY:\"\n",
    "print knn.score(X,y)"
   ]
  },
  {
   "cell_type": "markdown",
   "metadata": {},
   "source": [
    "Problem 5:"
   ]
  },
  {
   "cell_type": "code",
   "execution_count": 21,
   "metadata": {
    "collapsed": false
   },
   "outputs": [
    {
     "name": "stdout",
     "output_type": "stream",
     "text": [
      "LOGISTIC ACCURACY FOR 5:\n",
      "0.9664\n",
      "LOGISTIC ACCURACY ON OWN TRAINING SET:\n",
      "0.964792958592\n",
      "LOGISTIC ACCURACY ON VALIDATE SET:\n",
      "0.968193638728\n",
      "LOGISTIC ACCURACY ON OWN TRAINING SET:\n",
      "0.9636\n",
      "LOGISTIC ACCURACY ON VALIDATE SET:\n",
      "0.9664\n",
      "LOGISTIC ACCURACY ON OWN TRAINING SET:\n",
      "0.9655\n",
      "LOGISTIC ACCURACY ON VALIDATE SET:\n",
      "0.968\n",
      "LOGISTIC ACCURACY ON OWN TRAINING SET:\n",
      "0.967\n",
      "LOGISTIC ACCURACY ON VALIDATE SET:\n",
      "0.963\n",
      "LOGISTIC ACCURACY FOR 5 WHEN STUDENT DUMMY ADDED:\n",
      "0.9664\n",
      "LOGISTIC ACCURACY ON OWN TRAINING SET:\n",
      "0.964792958592\n",
      "LOGISTIC ACCURACY ON VALIDATE SET:\n",
      "0.968193638728\n",
      "LOGISTIC ACCURACY ON OWN TRAINING SET:\n",
      "0.9636\n",
      "LOGISTIC ACCURACY ON VALIDATE SET:\n",
      "0.9664\n",
      "LOGISTIC ACCURACY ON OWN TRAINING SET:\n",
      "0.9655\n",
      "LOGISTIC ACCURACY ON VALIDATE SET:\n",
      "0.968\n",
      "LOGISTIC ACCURACY ON OWN TRAINING SET:\n",
      "0.967\n",
      "LOGISTIC ACCURACY ON VALIDATE SET:\n",
      "0.963\n"
     ]
    }
   ],
   "source": [
    "default = pd.read_excel(\"Default.xlsx\")\n",
    "y1 = default.default\n",
    "X1 = default.drop(['default', 'student'], 1)\n",
    "log1 = LogisticRegression()\n",
    "log1 = log1.fit(X1,y1)\n",
    "print \"LOGISTIC ACCURACY FOR 5:\"\n",
    "print log1.score(X1,y1)\n",
    "\n",
    "def CrossValidate(train, validate):\n",
    "    yt = train.default\n",
    "    Xt = train.drop(['default', 'student'], 1)\n",
    "    yv = validate.default\n",
    "    logt = LogisticRegression()\n",
    "    logt = logt.fit(Xt,yt)\n",
    "    print \"LOGISTIC ACCURACY ON OWN TRAINING SET:\"\n",
    "    print logt.score(Xt,yt)\n",
    "    print \"LOGISTIC ACCURACY ON VALIDATE SET:\"\n",
    "    print logt.score(Xt,yv)\n",
    "    pred = logt.predict(Xt)\n",
    "    \n",
    "\n",
    "train1 = default[0:4999]\n",
    "validate1 = default[5000:9999]\n",
    "CrossValidate(train1, validate1)\n",
    "\n",
    "train2 = default[0:2500]\n",
    "validate2 = default[2501:5001]\n",
    "CrossValidate(train2, validate2)\n",
    "\n",
    "train3 = default[0:4000]\n",
    "validate3 = default[4001:8001]\n",
    "CrossValidate(train3, validate3)\n",
    "\n",
    "train4 = default[0:1000]\n",
    "validate4 = default[1001:2001]\n",
    "CrossValidate(train4, validate4)\n",
    "\n",
    "default['StudentBool'] = (default.student == 'Yes').astype(int)\n",
    "\n",
    "y2 = default.default\n",
    "X2 = default.drop(['default', 'student'], 1)\n",
    "log2 = LogisticRegression()\n",
    "log2 = log1.fit(X2,y2)\n",
    "print \"LOGISTIC ACCURACY FOR 5 WHEN STUDENT DUMMY ADDED:\"\n",
    "print log1.score(X2,y2)\n",
    "\n",
    "traind1 = default[0:4999]\n",
    "validated1 = default[5000:9999]\n",
    "CrossValidate(traind1, validated1)\n",
    "\n",
    "traind2 = default[0:2500]\n",
    "validated2 = default[2501:5001]\n",
    "CrossValidate(traind2, validated2)\n",
    "\n",
    "traind3 = default[0:4000]\n",
    "validated3 = default[4001:8001]\n",
    "CrossValidate(traind3, validated3)\n",
    "\n",
    "traind4 = default[0:1000]\n",
    "validated4 = default[1001:2001]\n",
    "CrossValidate(traind4, validated4)"
   ]
  },
  {
   "cell_type": "markdown",
   "metadata": {
    "collapsed": true
   },
   "source": [
    "Problem 6:\n",
    "\n",
    "What is n and p?\n",
    "n = 100, p = 2\n",
    "\n",
    "Part b) Well, it looks like a quadratic! Makes sense, since it is -x^2."
   ]
  },
  {
   "cell_type": "markdown",
   "metadata": {},
   "source": [
    "Rest of Problem 6:"
   ]
  },
  {
   "cell_type": "code",
   "execution_count": 44,
   "metadata": {
    "collapsed": false
   },
   "outputs": [
    {
     "data": {
      "image/png": "[encoded data removed]",
      "text/plain": [
       "<matplotlib.figure.Figure at 0xe8354e0>"
      ]
     },
     "metadata": {},
     "output_type": "display_data"
    },
    {
     "name": "stdout",
     "output_type": "stream",
     "text": [
      "Degree: 1\n",
      "y=  -0.679531119743x^1  -2.46825775682x^0\n",
      "ERROR IS: 20.7267517182\n",
      "STATITICAL SIGNIFICANCE:\n",
      "          0         1\n",
      "0  1.161521 -0.674629\n",
      "1  0.386078 -2.482079\n",
      "Degree: 2\n",
      "y=  -2.01164305468x^2  1.06994299695x^1  -0.18393953814x^0\n",
      "ERROR IS: 0.964265885886\n",
      "STATITICAL SIGNIFICANCE:\n",
      "          0         1\n",
      "0  1.161521 -2.011984\n",
      "1  0.386078  1.069535\n",
      "2 -1.133133 -0.181566\n",
      "Degree: 3\n",
      "y=  -0.0117605217748x^3  -1.9834543183x^2  1.10702128892x^1  -0.209380519764x^0\n",
      "ERROR IS: 0.975694542037\n",
      "STATITICAL SIGNIFICANCE:\n",
      "          0         1\n",
      "0  1.161521 -0.011393\n",
      "1  0.386078 -1.984616\n",
      "2 -1.133133  1.105528\n",
      "3  0.433093 -0.206632\n",
      "Degree: 4\n",
      "y=  0.00345142553692x^4  -0.0229070398319x^3  -1.99779744514x^2  1.13254902486x^1  -0.203844623191x^0\n",
      "ERROR IS: 0.988417066057\n",
      "STATITICAL SIGNIFICANCE:\n",
      "          0         1\n",
      "0  1.161521  0.003399\n",
      "1  0.386078 -0.022379\n",
      "2 -1.133133 -1.998710\n",
      "3  0.433093  1.130704\n",
      "4 -0.304086 -0.201251\n",
      "Degree: 1\n",
      "y=  -0.679531119743x^1  -2.46825775682x^0\n",
      "ERROR IS: 20.7267517182\n",
      "STATITICAL SIGNIFICANCE:\n",
      "          0         1\n",
      "0  1.161521 -0.674629\n",
      "1  0.386078 -2.482079\n",
      "Degree: 2\n",
      "y=  -2.01164305468x^2  1.06994299695x^1  -0.18393953814x^0\n",
      "ERROR IS: 0.964265885886\n",
      "STATITICAL SIGNIFICANCE:\n",
      "          0         1\n",
      "0  1.161521 -2.011984\n",
      "1  0.386078  1.069535\n",
      "2 -1.133133 -0.181566\n",
      "Degree: 3\n",
      "y=  -0.0117605217748x^3  -1.9834543183x^2  1.10702128892x^1  -0.209380519764x^0\n",
      "ERROR IS: 0.975694542037\n",
      "STATITICAL SIGNIFICANCE:\n",
      "          0         1\n",
      "0  1.161521 -0.011393\n",
      "1  0.386078 -1.984616\n",
      "2 -1.133133  1.105528\n",
      "3  0.433093 -0.206632\n",
      "Degree: 4\n",
      "y=  0.00345142553692x^4  -0.0229070398319x^3  -1.99779744514x^2  1.13254902486x^1  -0.203844623191x^0\n",
      "ERROR IS: 0.988417066057\n",
      "STATITICAL SIGNIFICANCE:\n",
      "          0         1\n",
      "0  1.161521  0.003399\n",
      "1  0.386078 -0.022379\n",
      "2 -1.133133 -1.998710\n",
      "3  0.433093  1.130704\n",
      "4 -0.304086 -0.201251\n"
     ]
    }
   ],
   "source": [
    "np.random.seed(2)\n",
    "y = np.random.normal(0, 1, 100)\n",
    "x = np.random.normal(0, 1, 100)\n",
    "\n",
    "y = x - 2 * x**2 + np.random.normal(0, 1, 100)\n",
    "\n",
    "plt.scatter(x, y)\n",
    "plt.show()\n",
    "\n",
    "\n",
    "from sklearn.cross_validation import LeaveOneOut\n",
    "for deg in range(1,5):\n",
    "    print(\"Degree: \"+str(deg))\n",
    "    fit=np.polyfit(x,y,deg)\n",
    "    estimator=0\n",
    "    estimatorStr=\"y=\"\n",
    "    for d in range(deg,-1,-1):\n",
    "        estimator+ = x**d * fit[deg-d]\n",
    "        estimatorStr+=\"  \"+str(fit[deg-d])+\"x^\"+str(d)\n",
    "    \n",
    "    print(estimatorStr)\n",
    "\n",
    "    MSESum=0.0\n",
    "    loo = LeaveOneOut(100)\n",
    "    for train, test in loo:\n",
    "        fit=np.polyfit(x[train],y[train],deg)\n",
    "        estimator=0\n",
    "        for d in range(deg,-1,-1):\n",
    "            estimator+=fit[deg-d]*x[test]**d\n",
    "        MSESum+=(y[test]-estimator)**2.0\n",
    "    MSESum*=(1.0/len(y))\n",
    "    print(\"ERROR IS: \"+ str(MSESum[0]))\n",
    "    print(\"STATITICAL SIGNIFICANCE:\")\n",
    "    print pd.DataFrame(zip(x, fit))\n",
    "    \n",
    "\n",
    "np.random.seed(1012312)\n",
    "\n",
    "for deg in range(1,5):\n",
    "    print(\"Degree: \"+str(deg))\n",
    "    fit=np.polyfit(x,y,deg)\n",
    "    estimator=0\n",
    "    estimatorStr=\"y=\"\n",
    "    for d in range(deg,-1,-1):\n",
    "        estimator+=fit[deg-d]*x**d\n",
    "        estimatorStr+=\"  \"+str(fit[deg-d])+\"x^\"+str(d)\n",
    "    \n",
    "    #plot and show estimate using all data\n",
    "    print(estimatorStr)\n",
    "    #plt.scatter(x,estimator)\n",
    "    #plt.show()\n",
    "    \n",
    "    #Find loocv error\n",
    "    MSESum=0.0\n",
    "    loo = LeaveOneOut(100)\n",
    "    for train, test in loo:\n",
    "        fit=np.polyfit(x[train],y[train],deg)\n",
    "        estimator=0\n",
    "        for d in range(deg,-1,-1):\n",
    "            estimator+=fit[deg-d]*x[test]**d\n",
    "        MSESum+=(y[test]-estimator)**2.0\n",
    "    MSESum*=(1.0/len(y))\n",
    "    print(\"ERROR IS: \"+ str(MSESum[0]))\n",
    "    print(\"STATITICAL SIGNIFICANCE:\")\n",
    "    print pd.DataFrame(zip(x, fit))"
   ]
  },
  {
   "cell_type": "markdown",
   "metadata": {},
   "source": [
    "Problem 7: Problem 9 from Chapter 6"
   ]
  },
  {
   "cell_type": "code",
   "execution_count": 100,
   "metadata": {
    "collapsed": false
   },
   "outputs": [],
   "source": [
    "college = pd.read_csv('College.csv')\n",
    "\n",
    "y = college[\"Apps\"]\n",
    "x = college.drop(\"Apps\", axis=1).drop(\"Private\", axis=1)\n",
    "x = x.loc[:,\"Accept\":]"
   ]
  },
  {
   "cell_type": "markdown",
   "metadata": {},
   "source": [
    "Part a)"
   ]
  },
  {
   "cell_type": "code",
   "execution_count": 101,
   "metadata": {
    "collapsed": false
   },
   "outputs": [],
   "source": [
    "# 75% Train, 25% Test\n",
    "x_train, x_test, y_train, y_test = train_test_split(x, y)"
   ]
  },
  {
   "cell_type": "markdown",
   "metadata": {},
   "source": [
    "Part b) Linear Regression"
   ]
  },
  {
   "cell_type": "code",
   "execution_count": 102,
   "metadata": {
    "collapsed": false
   },
   "outputs": [
    {
     "name": "stdout",
     "output_type": "stream",
     "text": [
      "Linear Regression MSE: 1238847.45154\n"
     ]
    }
   ],
   "source": [
    "clf = LinearRegression()\n",
    "clf.fit(x_train, y_train);\n",
    "\n",
    "test_error = mean_squared_error(y_test, clf.predict(x_test))\n",
    "print 'Linear Regression MSE: ' + str(test_error)"
   ]
  },
  {
   "cell_type": "markdown",
   "metadata": {},
   "source": [
    "Part c) Ridge Regression with CV"
   ]
  },
  {
   "cell_type": "code",
   "execution_count": 103,
   "metadata": {
    "collapsed": false
   },
   "outputs": [
    {
     "name": "stdout",
     "output_type": "stream",
     "text": [
      "Ridge Regression with CV MSE: 1238885.60275\n"
     ]
    }
   ],
   "source": [
    "clf = RidgeCV()\n",
    "clf.fit(x_train, y_train);\n",
    "\n",
    "test_error = mean_squared_error(y_test, clf.predict(x_test))\n",
    "print 'Ridge Regression with CV MSE: ' + str(test_error)"
   ]
  },
  {
   "cell_type": "markdown",
   "metadata": {},
   "source": [
    "Part d) Lasso Model with CV"
   ]
  },
  {
   "cell_type": "code",
   "execution_count": 104,
   "metadata": {
    "collapsed": false
   },
   "outputs": [
    {
     "name": "stdout",
     "output_type": "stream",
     "text": [
      "Lasso with CV MSE: 1448803.86814\n"
     ]
    }
   ],
   "source": [
    "clf = LassoCV()\n",
    "clf.fit(x_train, y_train);\n",
    "\n",
    "test_error = mean_squared_error(y_test, clf.predict(x_test))\n",
    "print 'Lasso with CV MSE: ' + str(test_error)"
   ]
  },
  {
   "cell_type": "markdown",
   "metadata": {},
   "source": [
    "Part e) PCR"
   ]
  },
  {
   "cell_type": "code",
   "execution_count": 105,
   "metadata": {
    "collapsed": false
   },
   "outputs": [
    {
     "data": {
      "image/png": "[encoded data removed]",
      "text/plain": [
       "<matplotlib.figure.Figure at 0xc554d68>"
      ]
     },
     "metadata": {},
     "output_type": "display_data"
    }
   ],
   "source": [
    "# Used this as reference: http://www.science.smith.edu/~jcrouser/SDS293/labs/lab11/Lab%2011%20-%20PCR%20and%20PLS%20Regression%20in%20Python.pdf\n",
    "\n",
    "pca = PCA()\n",
    "X_reduced = pca.fit_transform(scale(x))\n",
    "\n",
    "kf_10 = cross_validation.KFold(n, n_folds=10, shuffle=True, random_state=1)\n",
    "\n",
    "n = len(X_reduced)\n",
    "regr = LinearRegression()\n",
    "mse = []\n",
    "\n",
    "# # Calculate MSE with only the intercept (no principal components in regression)\n",
    "# score = -1*cross_validation.cross_val_score(regr, np.ones((n,1)), y.ravel(), cv=kf_10, scoring='mean_squared_error').mean()\n",
    "# mse.append(score)\n",
    "\n",
    "# Calculate MSE using CV for the 19 principle components, adding one component at the time.\n",
    "for i in np.arange(1, 20):\n",
    "    score = -1*cross_validation.cross_val_score(regr, X_reduced[:,:i], y.ravel(), cv=kf_10, scoring='neg_mean_squared_error').mean()\n",
    "    mse.append(score)\n",
    "    \n",
    "    \n",
    "fig = plt.figure()\n",
    "ax1 = fig.add_subplot(111)\n",
    "ax1.plot(mse, '-v')\n",
    "ax1.set_title(\"Principal Components Regression\")\n",
    "ax1.set_xlabel(\"Number of principal components in regression\")\n",
    "ax1.set_ylabel('MSE')\n",
    "\n",
    "plt.show()"
   ]
  },
  {
   "cell_type": "markdown",
   "metadata": {},
   "source": [
    "Note that the lowest cross validation error seems to occur at M = 14. We will select this for our CV"
   ]
  },
  {
   "cell_type": "code",
   "execution_count": 106,
   "metadata": {
    "collapsed": false
   },
   "outputs": [
    {
     "name": "stdout",
     "output_type": "stream",
     "text": [
      "MSE at M = 14: 1417532.03033\n"
     ]
    }
   ],
   "source": [
    "print 'MSE at M = 14: ' + str(mse[14])"
   ]
  },
  {
   "cell_type": "markdown",
   "metadata": {},
   "source": [
    "This MSE is comparabe to the other regression models. It is a little bit higher, which is expected, since we are using fewer dimensions/components."
   ]
  },
  {
   "cell_type": "markdown",
   "metadata": {},
   "source": [
    "Part f) PLS"
   ]
  },
  {
   "cell_type": "code",
   "execution_count": 80,
   "metadata": {
    "collapsed": false
   },
   "outputs": [
    {
     "data": {
      "image/png": "[encoded data removed]",
      "text/plain": [
       "<matplotlib.figure.Figure at 0xf18af28>"
      ]
     },
     "metadata": {},
     "output_type": "display_data"
    },
    {
     "name": "stdout",
     "output_type": "stream",
     "text": [
      "Error: 34.4716791027\n"
     ]
    }
   ],
   "source": [
    "pca2 = PCA()\n",
    "\n",
    "# Split into training and test sets\n",
    "X_train, X_test , y_train, y_test = cross_validation.train_test_split(x, y)\n",
    "\n",
    "# Scale the data\n",
    "X_reduced_train = pca2.fit_transform(scale(X_train))\n",
    "n = len(X_reduced_train)\n",
    "\n",
    "n = len(X_train)\n",
    "# 10-fold CV, with shuffle\n",
    "kf_10 = cross_validation.KFold(n, n_folds=10, shuffle=True, random_state=1)\n",
    "mse = []\n",
    "for i in np.arange(1, 20):\n",
    "    pls = PLSRegression(n_components=i)\n",
    "    score = cross_validation.cross_val_score(pls, scale(X_train), y_train, cv=kf_10, scoring='neg_mean_squared_error').mean()\n",
    "    mse.append(-score)\n",
    "# Plot results\n",
    "plt.plot(np.arange(1, 20), np.array(mse), '-v')\n",
    "plt.xlabel('Number of principal components in regression')\n",
    "plt.ylabel('MSE')\n",
    "plt.title('PLS')\n",
    "plt.xlim(xmin=-1)\n",
    "plt.show()\n",
    "\n",
    "\n",
    "pls = PLSRegression(n_components=7)\n",
    "pls.fit(scale(X_train), y_train)\n",
    "\n",
    "print 'Error: ' + str(mean_squared_error(y_test, pls.predict(scale(X_test))))\n"
   ]
  },
  {
   "cell_type": "code",
   "execution_count": 45,
   "metadata": {
    "collapsed": false
   },
   "outputs": [
    {
     "name": "stdout",
     "output_type": "stream",
     "text": [
      "RidgeCV MSE: 1.57946405383e-09\n",
      "MSE for LassoCV: 0.014342093168\n"
     ]
    },
    {
     "data": {
      "image/png": "[encoded data removed]",
      "text/plain": [
       "<matplotlib.figure.Figure at 0xee47eb8>"
      ]
     },
     "metadata": {},
     "output_type": "display_data"
    }
   ],
   "source": [
    "boston_data = pd.read_csv('Boston.csv')\n",
    "y = boston_data[\"crim\"]\n",
    "x = boston_data.loc[:, \"crim\":]\n",
    "\n",
    "model = RidgeCV()\n",
    "train_x, test_x, train_y, test_y = train_test_split(x, y)\n",
    "result = model.fit(train_x, train_y)\n",
    "print \"RidgeCV MSE: \" + str(mean_squared_error(test_y, model.predict(test_x)))\n",
    "\n",
    "\n",
    "model = LassoCV()\n",
    "train_x, test_x, train_y, test_y = train_test_split(x, y)\n",
    "result = model.fit(train_x, train_y)\n",
    "print \"MSE for LassoCV: \" + str(mean_squared_error(test_y, model.predict(test_x)))\n",
    "\n",
    "pcr = PCA()\n",
    "X_reduced = pcr.fit_transform(scale(x))\n",
    "n = len(X_reduced)\n",
    "KFold_10 = cross_validation.KFold(n, n_folds = 10, shuffle = True, random_state = 1)\n",
    "regr = LinearRegression()\n",
    "mse = []\n",
    "\n",
    "\n",
    "for i in xrange(1, 20):\n",
    "    score = -1*cross_validation.cross_val_score(regr, X_reduced[:, :i], y.ravel(), cv = KFold_10, scoring = 'neg_mean_squared_error').mean()\n",
    "    mse.append(score)\n",
    "\n",
    "fig = plt.figure()\n",
    "ax1 = fig.add_subplot(111)\n",
    "ax1.plot(mse, '-o')\n",
    "plt.show()"
   ]
  },
  {
   "cell_type": "markdown",
   "metadata": {},
   "source": [
    "Problem 9:\n",
    "Part a)"
   ]
  },
  {
   "cell_type": "code",
   "execution_count": 55,
   "metadata": {
    "collapsed": false
   },
   "outputs": [
    {
     "name": "stdout",
     "output_type": "stream",
     "text": [
      "B_hat mean for 35th element: 0.992163512279\n",
      "B_hat variance for 35th element: 58.3299146838\n"
     ]
    }
   ],
   "source": [
    "p = 50;\n",
    "n = 51;\n",
    "j = np.random.randint(0, high=50)\n",
    "\n",
    "x_mean = np.zeros(p)\n",
    "e_mean = np.zeros(n)\n",
    "x_cov = np.identity(p)\n",
    "e_cov = np.identity(n)\n",
    "\n",
    "clf = LinearRegression()\n",
    "B = np.ones(p).reshape(p, 1)\n",
    "\n",
    "def getModel(clf):\n",
    "    B_hat = []\n",
    "    for i in range(0, 100):\n",
    "        x = np.random.multivariate_normal(x_mean, x_cov, size=n)\n",
    "        e = np.random.multivariate_normal(e_mean, e_cov).reshape(n, 1)\n",
    "\n",
    "        y = x.dot(B) + e\n",
    "\n",
    "        clf.fit(x, y)\n",
    "        val = clf.coef_[0][j]\n",
    "        B_hat.append(val)\n",
    "        \n",
    "    return B_hat\n",
    "    \n",
    "print 'B_hat mean for ' + str(j) + 'th element: ' + str(np.mean(B_hat))\n",
    "print 'B_hat variance for ' + str(j) + 'th element: ' + str(np.var(B_hat))\n"
   ]
  },
  {
   "cell_type": "markdown",
   "metadata": {},
   "source": [
    "Part b)"
   ]
  },
  {
   "cell_type": "code",
   "execution_count": 61,
   "metadata": {
    "collapsed": false
   },
   "outputs": [
    {
     "data": {
      "image/png": "[encoded data removed]",
      "text/plain": [
       "<matplotlib.figure.Figure at 0xc406898>"
      ]
     },
     "metadata": {},
     "output_type": "display_data"
    },
    {
     "data": {
      "image/png": "[encoded data removed]",
      "text/plain": [
       "<matplotlib.figure.Figure at 0xbddf9b0>"
      ]
     },
     "metadata": {},
     "output_type": "display_data"
    }
   ],
   "source": [
    "B_means = []\n",
    "B_vars = []\n",
    "\n",
    "lambdas = [.01, .1, 1, 10, 100]\n",
    "\n",
    "for i in lambdas:\n",
    "    ridge = Ridge(alpha = i)\n",
    "    B_hat = getModel(ridge)\n",
    "    B_means.append(np.mean(B_hat))\n",
    "    B_vars.append(np.var(B_hat))\n",
    "    \n",
    "plt.semilogx(lambdas, B_means, c = 'b', marker = '^')\n",
    "plt.xlabel('Lambdas')\n",
    "plt.ylabel('Means')\n",
    "plt.show()\n",
    "\n",
    "\n",
    "plt.semilogx(lambdas, B_vars, c = 'r', marker = '^')\n",
    "plt.xlabel('Lambdas')\n",
    "plt.ylabel('Variances')\n",
    "plt.show()"
   ]
  },
  {
   "cell_type": "code",
   "execution_count": null,
   "metadata": {
    "collapsed": true
   },
   "outputs": [],
   "source": []
  }
 ],
 "metadata": {
  "anaconda-cloud": {},
  "kernelspec": {
   "display_name": "Python [conda root]",
   "language": "python",
   "name": "conda-root-py"
  },
  "language_info": {
   "codemirror_mode": {
    "name": "ipython",
    "version": 2
   },
   "file_extension": ".py",
   "mimetype": "text/x-python",
   "name": "python",
   "nbconvert_exporter": "python",
   "pygments_lexer": "ipython2",
   "version": "2.7.12"
  }
 },
 "nbformat": 4,
 "nbformat_minor": 1
}
